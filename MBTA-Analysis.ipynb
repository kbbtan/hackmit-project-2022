{
 "cells": [
  {
   "cell_type": "code",
   "execution_count": 33,
   "id": "34a9c158",
   "metadata": {},
   "outputs": [],
   "source": [
    "import pandas as pd"
   ]
  },
  {
   "cell_type": "code",
   "execution_count": 34,
   "id": "c16b0db2",
   "metadata": {},
   "outputs": [
    {
     "data": {
      "text/html": [
       "<div>\n",
       "<style scoped>\n",
       "    .dataframe tbody tr th:only-of-type {\n",
       "        vertical-align: middle;\n",
       "    }\n",
       "\n",
       "    .dataframe tbody tr th {\n",
       "        vertical-align: top;\n",
       "    }\n",
       "\n",
       "    .dataframe thead th {\n",
       "        text-align: right;\n",
       "    }\n",
       "</style>\n",
       "<table border=\"1\" class=\"dataframe\">\n",
       "  <thead>\n",
       "    <tr style=\"text-align: right;\">\n",
       "      <th></th>\n",
       "      <th>service_date</th>\n",
       "      <th>time_period</th>\n",
       "      <th>stop_id</th>\n",
       "      <th>station_name</th>\n",
       "      <th>route_or_line</th>\n",
       "      <th>gated_entries</th>\n",
       "    </tr>\n",
       "  </thead>\n",
       "  <tbody>\n",
       "    <tr>\n",
       "      <th>0</th>\n",
       "      <td>2014-12-31</td>\n",
       "      <td>(00:00:00)</td>\n",
       "      <td>place-welln</td>\n",
       "      <td>Wellington</td>\n",
       "      <td>Orange Line</td>\n",
       "      <td>1.00</td>\n",
       "    </tr>\n",
       "    <tr>\n",
       "      <th>1</th>\n",
       "      <td>2014-12-31</td>\n",
       "      <td>(00:30:00)</td>\n",
       "      <td>place-tumnl</td>\n",
       "      <td>Tufts Medical Center</td>\n",
       "      <td>Orange Line</td>\n",
       "      <td>1.00</td>\n",
       "    </tr>\n",
       "    <tr>\n",
       "      <th>2</th>\n",
       "      <td>2014-12-31</td>\n",
       "      <td>(02:00:00)</td>\n",
       "      <td>place-sdmnl</td>\n",
       "      <td>Suffolk Downs</td>\n",
       "      <td>Blue Line</td>\n",
       "      <td>1.00</td>\n",
       "    </tr>\n",
       "    <tr>\n",
       "      <th>3</th>\n",
       "      <td>2014-12-31</td>\n",
       "      <td>(03:00:00)</td>\n",
       "      <td>place-asmnl</td>\n",
       "      <td>Ashmont</td>\n",
       "      <td>Red Line</td>\n",
       "      <td>1.00</td>\n",
       "    </tr>\n",
       "    <tr>\n",
       "      <th>4</th>\n",
       "      <td>2014-12-31</td>\n",
       "      <td>(03:00:00)</td>\n",
       "      <td>place-dwnxg</td>\n",
       "      <td>Downtown Crossing</td>\n",
       "      <td>Orange Line</td>\n",
       "      <td>0.51</td>\n",
       "    </tr>\n",
       "  </tbody>\n",
       "</table>\n",
       "</div>"
      ],
      "text/plain": [
       "  service_date time_period      stop_id          station_name route_or_line  \\\n",
       "0   2014-12-31  (00:00:00)  place-welln            Wellington   Orange Line   \n",
       "1   2014-12-31  (00:30:00)  place-tumnl  Tufts Medical Center   Orange Line   \n",
       "2   2014-12-31  (02:00:00)  place-sdmnl         Suffolk Downs     Blue Line   \n",
       "3   2014-12-31  (03:00:00)  place-asmnl               Ashmont      Red Line   \n",
       "4   2014-12-31  (03:00:00)  place-dwnxg     Downtown Crossing   Orange Line   \n",
       "\n",
       "   gated_entries  \n",
       "0           1.00  \n",
       "1           1.00  \n",
       "2           1.00  \n",
       "3           1.00  \n",
       "4           0.51  "
      ]
     },
     "execution_count": 34,
     "metadata": {},
     "output_type": "execute_result"
    }
   ],
   "source": [
    "li = []\n",
    "for i in range(9):\n",
    "    temp = pd.read_csv(f\"GSE_{2014 + i}.csv\")\n",
    "    li.append(temp)\n",
    "    \n",
    "df = pd.concat(li)\n",
    "df.head()"
   ]
  },
  {
   "cell_type": "code",
   "execution_count": 35,
   "id": "40bc7355",
   "metadata": {},
   "outputs": [
    {
     "data": {
      "text/plain": [
       "service_date      object\n",
       "time_period       object\n",
       "stop_id           object\n",
       "station_name      object\n",
       "route_or_line     object\n",
       "gated_entries    float64\n",
       "dtype: object"
      ]
     },
     "execution_count": 35,
     "metadata": {},
     "output_type": "execute_result"
    }
   ],
   "source": [
    "df.dtypes"
   ]
  },
  {
   "cell_type": "code",
   "execution_count": 36,
   "id": "0b664a63",
   "metadata": {},
   "outputs": [
    {
     "data": {
      "text/html": [
       "<div>\n",
       "<style scoped>\n",
       "    .dataframe tbody tr th:only-of-type {\n",
       "        vertical-align: middle;\n",
       "    }\n",
       "\n",
       "    .dataframe tbody tr th {\n",
       "        vertical-align: top;\n",
       "    }\n",
       "\n",
       "    .dataframe thead th {\n",
       "        text-align: right;\n",
       "    }\n",
       "</style>\n",
       "<table border=\"1\" class=\"dataframe\">\n",
       "  <thead>\n",
       "    <tr style=\"text-align: right;\">\n",
       "      <th></th>\n",
       "      <th></th>\n",
       "      <th></th>\n",
       "      <th>gated_entries</th>\n",
       "    </tr>\n",
       "    <tr>\n",
       "      <th>service_date</th>\n",
       "      <th>time_period</th>\n",
       "      <th>route_or_line</th>\n",
       "      <th></th>\n",
       "    </tr>\n",
       "  </thead>\n",
       "  <tbody>\n",
       "    <tr>\n",
       "      <th rowspan=\"5\" valign=\"top\">2014-01-01</th>\n",
       "      <th rowspan=\"5\" valign=\"top\">(00:00:00)</th>\n",
       "      <th>Blue Line</th>\n",
       "      <td>113.70</td>\n",
       "    </tr>\n",
       "    <tr>\n",
       "      <th>Green Line</th>\n",
       "      <td>197.25</td>\n",
       "    </tr>\n",
       "    <tr>\n",
       "      <th>Orange Line</th>\n",
       "      <td>208.53</td>\n",
       "    </tr>\n",
       "    <tr>\n",
       "      <th>Red Line</th>\n",
       "      <td>339.12</td>\n",
       "    </tr>\n",
       "    <tr>\n",
       "      <th>Silver Line</th>\n",
       "      <td>25.40</td>\n",
       "    </tr>\n",
       "  </tbody>\n",
       "</table>\n",
       "</div>"
      ],
      "text/plain": [
       "                                        gated_entries\n",
       "service_date time_period route_or_line               \n",
       "2014-01-01   (00:00:00)  Blue Line             113.70\n",
       "                         Green Line            197.25\n",
       "                         Orange Line           208.53\n",
       "                         Red Line              339.12\n",
       "                         Silver Line            25.40"
      ]
     },
     "execution_count": 36,
     "metadata": {},
     "output_type": "execute_result"
    }
   ],
   "source": [
    "df = df.groupby(by=[\"service_date\", \"time_period\", \"route_or_line\"]).sum()\n",
    "df.head()"
   ]
  },
  {
   "cell_type": "code",
   "execution_count": 29,
   "id": "44a9b065",
   "metadata": {},
   "outputs": [],
   "source": [
    "df.to_csv('mbta_clean.csv')"
   ]
  },
  {
   "cell_type": "code",
   "execution_count": 39,
   "id": "15513ce8",
   "metadata": {},
   "outputs": [],
   "source": [
    "df.sample(frac=0.1).to_csv('mbta_clean_small.csv')"
   ]
  },
  {
   "cell_type": "code",
   "execution_count": 42,
   "id": "3f298f8a",
   "metadata": {},
   "outputs": [],
   "source": [
    "df.sample(frac=0.01).to_csv('mbta_clean_micro.csv')"
   ]
  }
 ],
 "metadata": {
  "kernelspec": {
   "display_name": "Python 3 (ipykernel)",
   "language": "python",
   "name": "python3"
  },
  "language_info": {
   "codemirror_mode": {
    "name": "ipython",
    "version": 3
   },
   "file_extension": ".py",
   "mimetype": "text/x-python",
   "name": "python",
   "nbconvert_exporter": "python",
   "pygments_lexer": "ipython3",
   "version": "3.9.7"
  }
 },
 "nbformat": 4,
 "nbformat_minor": 5
}
